{
 "cells": [
  {
   "cell_type": "code",
   "execution_count": 1,
   "id": "593be06e-12ae-4a24-a44d-1e179c66e7b1",
   "metadata": {},
   "outputs": [],
   "source": [
    "import cv2\n",
    "import numpy as np\n",
    "from matplotlib import pyplot as plt"
   ]
  },
  {
   "cell_type": "code",
   "execution_count": 6,
   "id": "5ffdf3c0-bd3c-4db2-82bd-2188614cda7f",
   "metadata": {},
   "outputs": [],
   "source": [
    "img = cv2.imread('tree.jpg',0)\n",
    "hist = cv2.calcHist([img],[0],None,[256],[0,256])"
   ]
  },
  {
   "cell_type": "code",
   "execution_count": 9,
   "id": "08a0d153-42b0-47cb-b0af-4b246727c935",
   "metadata": {},
   "outputs": [],
   "source": [
    "cv2.imshow('image',img)\n",
    "cv2.waitKey(0)\n",
    "cv2.destroyAllWindows()"
   ]
  },
  {
   "cell_type": "code",
   "execution_count": 8,
   "id": "ed1e9665-917a-4fa6-af62-157c90620eb6",
   "metadata": {},
   "outputs": [],
   "source": [
    "hist = np.bincount(img.ravel(),minlength=256)\n"
   ]
  },
  {
   "cell_type": "code",
   "execution_count": 7,
   "id": "bab1fdf1-5605-4805-84b1-bc78822d93c8",
   "metadata": {},
   "outputs": [
    {
     "data": {
      "image/png": "[encoded data removed]",
      "text/plain": [
       "<Figure size 432x288 with 1 Axes>"
      ]
     },
     "metadata": {
      "needs_background": "light"
     },
     "output_type": "display_data"
    }
   ],
   "source": [
    "plt.hist(img.ravel(),256,[0,256]); plt.show()"
   ]
  }
 ],
 "metadata": {
  "kernelspec": {
   "display_name": "Python 3",
   "language": "python",
   "name": "python3"
  },
  "language_info": {
   "codemirror_mode": {
    "name": "ipython",
    "version": 3
   },
   "file_extension": ".py",
   "mimetype": "text/x-python",
   "name": "python",
   "nbconvert_exporter": "python",
   "pygments_lexer": "ipython3",
   "version": "3.9.4"
  }
 },
 "nbformat": 4,
 "nbformat_minor": 5
}
