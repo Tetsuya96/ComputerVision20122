{
 "cells": [
  {
   "cell_type": "code",
   "execution_count": 5,
   "id": "ce710c7d-f251-4097-8244-fa4fd923f503",
   "metadata": {},
   "outputs": [],
   "source": [
    "import cv2\n",
    "import colorsys"
   ]
  },
  {
   "cell_type": "code",
   "execution_count": 6,
   "id": "f0384867-d4b8-4d6a-a6f6-4d8925c6b96a",
   "metadata": {},
   "outputs": [],
   "source": [
    "def draw_bounding_box(img, x, y, w, h): \n",
    "    cv2.rectangle(img, (x, y), (x + w, y + h), (36,255,12), 2) \n",
    "    (tw, th), _ = cv2.getTextSize(' Object ', cv2.FONT_HERSHEY_SIMPLEX, 0.6, 1)\n",
    "    cv2.rectangle(img, (x, y -30), (x + tw, y), (36,255,12), -1)\n",
    "    cv2.putText(img, ' Object ', (x, y-10), cv2.FONT_HERSHEY_SIMPLEX, 0.6, (0, 0, 0), 1) \n",
    "    \n",
    "def draw_color_indicator(img, bgr, x, y): \n",
    "    cv2.rectangle(img, (x, y), (x+30, y+30), bgr, -1) \n",
    "    (tw, th), _ = cv2.getTextSize(' target color ', cv2.FONT_HERSHEY_SIMPLEX, 0.6, 1) \n",
    "    cv2.rectangle(img, (x + 30, y), (x + tw, + 30, y + 30), (255, 255, 255), -1) \n",
    "    cv2.putText(img, ' target color ', (x + 30, y + 20), cv2.FONT_HERSHEY_SIMPLEX, 0.6, (0, 0, 0), 1) "
   ]
  },
  {
   "cell_type": "code",
   "execution_count": 7,
   "id": "2758ec82-6bab-4167-a396-6a24bb0ab44e",
   "metadata": {},
   "outputs": [
    {
     "data": {
      "text/plain": [
       "-1"
      ]
     },
     "execution_count": 7,
     "metadata": {},
     "output_type": "execute_result"
    }
   ],
   "source": [
    "camera = cv2.VideoCapture(0) \n",
    "\n",
    "cv2.namedWindow('Frame') \n",
    "\n",
    "cv2.createTrackbar('Hue', 'Frame', 0, 179, lambda x: x)\n",
    "cv2.createTrackbar('Saturation', 'Frame', 0, 255, lambda x: None)\n",
    "cv2.createTrackbar('Value', 'Frame', 0, 255, lambda x: None) \n",
    "cv2.createTrackbar('Threshold', 'Frame', 0, 255, lambda x: None) \n",
    "\n",
    "while True: \n",
    "    # grab the current frame\n",
    "    (grabbed, frame) = camera.read() \n",
    "\n",
    "    if not grabbed:\n",
    "        break\n",
    "                   \n",
    "    blurred = cv2.GaussianBlur(frame, (11, 11), 0)\n",
    "    hsv = cv2.cvtColor(frame, cv2.COLOR_BGR2HSV) \n",
    "    \n",
    "    hue = cv2.getTrackbarPos('Hue','Frame')\n",
    "    saturation = cv2.getTrackbarPos('Saturation','Frame')\n",
    "    value = cv2.getTrackbarPos('Value','Frame') \n",
    "    threshold = cv2.getTrackbarPos('Threshold','Frame')\n",
    "                   \n",
    "    rgb = colorsys.hsv_to_rgb(hue / 179., saturation / 255., value / 255.)\n",
    "    rgb = tuple(map(lambda x: x * 255, rgb))\n",
    "    bgr = (rgb[2], rgb[1], rgb[0])\n",
    "    draw_color_indicator(frame, bgr, 20, 20)\n",
    "    \n",
    "    lower = (max(0, hue - threshold/2), max(0, saturation - threshold), max(0, value - threshold))\n",
    "    upper = (min(179, hue + threshold/2), min(255, saturation + threshold), min(255, value + threshold))\n",
    "\n",
    "    mask = cv2.inRange(hsv, lower, upper)\n",
    "    mask = cv2.erode(mask, None, iterations=2)\n",
    "    mask = cv2.dilate(mask, None, iterations=2)\n",
    "    cnts = cv2.findContours(mask.copy(), cv2.RETR_EXTERNAL, \n",
    "    cv2.CHAIN_APPROX_SIMPLE)[0] \n",
    "\n",
    "    if len(cnts) > 0: \n",
    "        c = max(cnts, key=cv2.contourArea)\n",
    "        \n",
    "        x,y,w,h = cv2.boundingRect(c) \n",
    "    \n",
    "        if w > 6 and h > 6:\n",
    "            draw_bounding_box(frame, x, y, w, h) \n",
    "        \n",
    "    cv2.imshow(\"Frame\", frame)\n",
    "\n",
    "    if cv2.waitKey(1) & OxFF == ord(\"q\"):\n",
    "        break\n",
    "        \n",
    "camera.release()\n",
    "cv2.destroyAllWindows()\n",
    "cv2.waitKey(1)"
   ]
  }
 ],
 "metadata": {
  "kernelspec": {
   "display_name": "Python 3",
   "language": "python",
   "name": "python3"
  },
  "language_info": {
   "codemirror_mode": {
    "name": "ipython",
    "version": 3
   },
   "file_extension": ".py",
   "mimetype": "text/x-python",
   "name": "python",
   "nbconvert_exporter": "python",
   "pygments_lexer": "ipython3",
   "version": "3.9.4"
  }
 },
 "nbformat": 4,
 "nbformat_minor": 5
}
