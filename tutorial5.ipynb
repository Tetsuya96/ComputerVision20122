{
 "cells": [
  {
   "cell_type": "code",
   "execution_count": 1,
   "id": "e98c6d2b-4a0a-4f58-8fc7-3a7735846b6e",
   "metadata": {},
   "outputs": [],
   "source": [
    "import numpy as np"
   ]
  },
  {
   "cell_type": "code",
   "execution_count": 2,
   "id": "43b9d2b6-bea1-4de0-90e8-9b39e2f7df4f",
   "metadata": {},
   "outputs": [],
   "source": [
    "import cv2"
   ]
  },
  {
   "cell_type": "code",
   "execution_count": null,
   "id": "086e8df7-a513-4f79-9669-3dc07d718128",
   "metadata": {},
   "outputs": [],
   "source": [
    "if x == 3:\n",
    "    print \"X equals 3.\"\n",
    "elif x == 2:\n",
    "    print \"x equals 2.\"\n",
    "else :\n",
    "    print \"X equals something else.\"\n",
    "print \"This is outside the 'if'.\""
   ]
  },
  {
   "cell_type": "code",
   "execution_count": 5,
   "id": "be006ec7-9125-4f14-9ddf-906ee1e9703a",
   "metadata": {},
   "outputs": [],
   "source": [
    "x = 3"
   ]
  },
  {
   "cell_type": "code",
   "execution_count": 6,
   "id": "56dba99c-67fa-4728-8dfe-1c0ce6315023",
   "metadata": {},
   "outputs": [
    {
     "ename": "SyntaxError",
     "evalue": "Missing parentheses in call to 'print'. Did you mean print(x, \"still in the loop\")? (<ipython-input-6-fec5e3e90923>, line 2)",
     "output_type": "error",
     "traceback": [
      "\u001b[1;36m  File \u001b[1;32m\"<ipython-input-6-fec5e3e90923>\"\u001b[1;36m, line \u001b[1;32m2\u001b[0m\n\u001b[1;33m    print x, \"still in the loop\"\u001b[0m\n\u001b[1;37m          ^\u001b[0m\n\u001b[1;31mSyntaxError\u001b[0m\u001b[1;31m:\u001b[0m Missing parentheses in call to 'print'. Did you mean print(x, \"still in the loop\")?\n"
     ]
    }
   ],
   "source": [
    "while x < 5:\n",
    "    print x, \"still in the loop\"\n",
    "    x = x + 1"
   ]
  },
  {
   "cell_type": "code",
   "execution_count": 7,
   "id": "a15f9bbd-0bdb-41dd-be7d-c874c8b75f65",
   "metadata": {},
   "outputs": [],
   "source": [
    "x = 6"
   ]
  },
  {
   "cell_type": "code",
   "execution_count": 8,
   "id": "c0273a54-1b28-425b-9d21-4e34d22878f1",
   "metadata": {},
   "outputs": [
    {
     "ename": "SyntaxError",
     "evalue": "Missing parentheses in call to 'print'. Did you mean print(x, \"still in the loop\")? (<ipython-input-8-5010d6c0520f>, line 2)",
     "output_type": "error",
     "traceback": [
      "\u001b[1;36m  File \u001b[1;32m\"<ipython-input-8-5010d6c0520f>\"\u001b[1;36m, line \u001b[1;32m2\u001b[0m\n\u001b[1;33m    print x, \"still in the loop\"\u001b[0m\n\u001b[1;37m          ^\u001b[0m\n\u001b[1;31mSyntaxError\u001b[0m\u001b[1;31m:\u001b[0m Missing parentheses in call to 'print'. Did you mean print(x, \"still in the loop\")?\n"
     ]
    }
   ],
   "source": [
    "while x < 5:\n",
    "    print x, \"still in the loop\""
   ]
  },
  {
   "cell_type": "code",
   "execution_count": null,
   "id": "06174664-b6e7-4425-8bc0-5eb2976ff18a",
   "metadata": {},
   "outputs": [],
   "source": []
  }
 ],
 "metadata": {
  "kernelspec": {
   "display_name": "Python 3",
   "language": "python",
   "name": "python3"
  },
  "language_info": {
   "codemirror_mode": {
    "name": "ipython",
    "version": 3
   },
   "file_extension": ".py",
   "mimetype": "text/x-python",
   "name": "python",
   "nbconvert_exporter": "python",
   "pygments_lexer": "ipython3",
   "version": "3.9.4"
  }
 },
 "nbformat": 4,
 "nbformat_minor": 5
}
